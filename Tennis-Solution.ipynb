{
 "cells": [
  {
   "cell_type": "markdown",
   "metadata": {},
   "source": [
    "# Collaboration and Competition\n",
    "\n",
    "---\n",
    "\n",
    "You are welcome to use this coding environment to train your agent for the project.  Follow the instructions below to get started!\n",
    "\n",
    "### 1. Start the Environment\n",
    "\n",
    "Run the next code cell to install a few packages.  This line will take a few minutes to run!"
   ]
  },
  {
   "cell_type": "code",
   "execution_count": 1,
   "metadata": {},
   "outputs": [],
   "source": [
    "!pip -q install ../python"
   ]
  },
  {
   "cell_type": "markdown",
   "metadata": {},
   "source": [
    "The environment is already saved in the Workspace and can be accessed at the file path provided below. "
   ]
  },
  {
   "cell_type": "code",
   "execution_count": 2,
   "metadata": {},
   "outputs": [
    {
     "name": "stderr",
     "output_type": "stream",
     "text": [
      "INFO:unityagents:\n",
      "'Academy' started successfully!\n",
      "Unity Academy name: Academy\n",
      "        Number of Brains: 1\n",
      "        Number of External Brains : 1\n",
      "        Lesson number : 0\n",
      "        Reset Parameters :\n",
      "\t\t\n",
      "Unity brain name: TennisBrain\n",
      "        Number of Visual Observations (per agent): 0\n",
      "        Vector Observation space type: continuous\n",
      "        Vector Observation space size (per agent): 8\n",
      "        Number of stacked Vector Observation: 3\n",
      "        Vector Action space type: continuous\n",
      "        Vector Action space size (per agent): 2\n",
      "        Vector Action descriptions: , \n"
     ]
    }
   ],
   "source": [
    "from unityagents import UnityEnvironment\n",
    "import numpy as np\n",
    "import torch\n",
    "import random\n",
    "from collections import deque\n",
    "\n",
    "env = UnityEnvironment(file_name=\"/data/Tennis_Linux_NoVis/Tennis\")"
   ]
  },
  {
   "cell_type": "markdown",
   "metadata": {},
   "source": [
    "Environments contain **_brains_** which are responsible for deciding the actions of their associated agents. Here we check for the first brain available, and set it as the default brain we will be controlling from Python."
   ]
  },
  {
   "cell_type": "code",
   "execution_count": 3,
   "metadata": {},
   "outputs": [],
   "source": [
    "# get the default brain\n",
    "brain_name = env.brain_names[0]\n",
    "brain = env.brains[brain_name]"
   ]
  },
  {
   "cell_type": "markdown",
   "metadata": {},
   "source": [
    "### 2. Examine the State and Action Spaces\n",
    "\n",
    "Run the code cell below to print some information about the environment."
   ]
  },
  {
   "cell_type": "code",
   "execution_count": 4,
   "metadata": {},
   "outputs": [
    {
     "name": "stdout",
     "output_type": "stream",
     "text": [
      "Number of agents: 2\n",
      "Size of each action: 2\n",
      "There are 2 agents. Each observes a state with length: 24\n",
      "The state for the first agent looks like: [ 0.          0.          0.          0.          0.          0.          0.\n",
      "  0.          0.          0.          0.          0.          0.          0.\n",
      "  0.          0.         -6.65278625 -1.5        -0.          0.\n",
      "  6.83172083  6.         -0.          0.        ]\n"
     ]
    }
   ],
   "source": [
    "# reset the environment\n",
    "env_info = env.reset(train_mode=True)[brain_name]\n",
    "\n",
    "# number of agents \n",
    "num_agents = len(env_info.agents)\n",
    "print('Number of agents:', num_agents)\n",
    "\n",
    "# size of each action\n",
    "action_size = brain.vector_action_space_size\n",
    "print('Size of each action:', action_size)\n",
    "\n",
    "# examine the state space \n",
    "states = env_info.vector_observations\n",
    "state_size = states.shape[1]\n",
    "print('There are {} agents. Each observes a state with length: {}'.format(states.shape[0], state_size))\n",
    "print('The state for the first agent looks like:', states[0])"
   ]
  },
  {
   "cell_type": "markdown",
   "metadata": {},
   "source": [
    "### 3. Take Random Actions in the Environment\n",
    "\n",
    "In the next code cell, you will learn how to use the Python API to control the agent and receive feedback from the environment.\n",
    "\n",
    "Note that **in this coding environment, you will not be able to watch the agents while they are training**, and you should set `train_mode=True` to restart the environment."
   ]
  },
  {
   "cell_type": "code",
   "execution_count": 5,
   "metadata": {},
   "outputs": [
    {
     "name": "stdout",
     "output_type": "stream",
     "text": [
      "Total score (averaged over agents) this episode: -0.004999999888241291\n",
      "Total score (averaged over agents) this episode: -0.004999999888241291\n",
      "Total score (averaged over agents) this episode: -0.004999999888241291\n",
      "Total score (averaged over agents) this episode: -0.004999999888241291\n",
      "Total score (averaged over agents) this episode: -0.004999999888241291\n"
     ]
    }
   ],
   "source": [
    "for i in range(5):                                         # play game for 5 episodes\n",
    "    env_info = env.reset(train_mode=False)[brain_name]     # reset the environment    \n",
    "    states = env_info.vector_observations                  # get the current state (for each agent)\n",
    "    scores = np.zeros(num_agents)                          # initialize the score (for each agent)\n",
    "    while True:\n",
    "        actions = np.random.randn(num_agents, action_size) # select an action (for each agent)\n",
    "        actions = np.clip(actions, -1, 1)                  # all actions between -1 and 1\n",
    "        env_info = env.step(actions)[brain_name]           # send all actions to tne environment\n",
    "        next_states = env_info.vector_observations         # get next state (for each agent)\n",
    "        rewards = env_info.rewards                         # get reward (for each agent)\n",
    "        dones = env_info.local_done                        # see if episode finished\n",
    "        scores += env_info.rewards                         # update the score (for each agent)\n",
    "        states = next_states                               # roll over states to next time step\n",
    "        if np.any(dones):                                  # exit loop if episode finished\n",
    "            break\n",
    "    print('Total score (averaged over agents) this episode: {}'.format(np.mean(scores)))"
   ]
  },
  {
   "cell_type": "markdown",
   "metadata": {},
   "source": [
    "When finished, you can close the environment."
   ]
  },
  {
   "cell_type": "code",
   "execution_count": 6,
   "metadata": {},
   "outputs": [],
   "source": [
    "from ddpg_agent52 import Agent\n",
    "\n",
    "agent = Agent(state_size=state_size, action_size=action_size, random_seed=200, agent_size=num_agents)"
   ]
  },
  {
   "cell_type": "code",
   "execution_count": 7,
   "metadata": {},
   "outputs": [
    {
     "name": "stdout",
     "output_type": "stream",
     "text": [
      "Episode 20, Average last 100 scores: 0.010, Standard Deviation of last 100 scores: 0.030\n",
      "Episode 40, Average last 100 scores: 0.013, Standard Deviation of last 100 scores: 0.033\n",
      "Episode 60, Average last 100 scores: 0.013, Standard Deviation of last 100 scores: 0.034\n",
      "Episode 80, Average last 100 scores: 0.010, Standard Deviation of last 100 scores: 0.030\n",
      "Episode 100, Average last 100 scores: 0.008, Standard Deviation of last 100 scores: 0.027\n",
      "Episode 120, Average last 100 scores: 0.006, Standard Deviation of last 100 scores: 0.024\n",
      "Episode 140, Average last 100 scores: 0.003, Standard Deviation of last 100 scores: 0.017\n",
      "Episode 160, Average last 100 scores: 0.000, Standard Deviation of last 100 scores: 0.000\n",
      "Episode 180, Average last 100 scores: 0.000, Standard Deviation of last 100 scores: 0.000\n",
      "Episode 200, Average last 100 scores: 0.002, Standard Deviation of last 100 scores: 0.014\n",
      "Episode 220, Average last 100 scores: 0.002, Standard Deviation of last 100 scores: 0.014\n",
      "Episode 240, Average last 100 scores: 0.002, Standard Deviation of last 100 scores: 0.014\n",
      "Episode 260, Average last 100 scores: 0.002, Standard Deviation of last 100 scores: 0.014\n",
      "Episode 280, Average last 100 scores: 0.002, Standard Deviation of last 100 scores: 0.014\n",
      "Episode 300, Average last 100 scores: 0.000, Standard Deviation of last 100 scores: 0.000\n",
      "Episode 320, Average last 100 scores: 0.005, Standard Deviation of last 100 scores: 0.022\n",
      "Episode 340, Average last 100 scores: 0.007, Standard Deviation of last 100 scores: 0.026\n",
      "Episode 360, Average last 100 scores: 0.007, Standard Deviation of last 100 scores: 0.026\n",
      "Episode 380, Average last 100 scores: 0.007, Standard Deviation of last 100 scores: 0.026\n",
      "Episode 400, Average last 100 scores: 0.007, Standard Deviation of last 100 scores: 0.026\n",
      "Episode 420, Average last 100 scores: 0.002, Standard Deviation of last 100 scores: 0.014\n",
      "Episode 440, Average last 100 scores: 0.000, Standard Deviation of last 100 scores: 0.000\n",
      "Episode 460, Average last 100 scores: 0.000, Standard Deviation of last 100 scores: 0.000\n",
      "Episode 480, Average last 100 scores: 0.000, Standard Deviation of last 100 scores: 0.000\n",
      "Episode 500, Average last 100 scores: 0.000, Standard Deviation of last 100 scores: 0.000\n",
      "Episode 520, Average last 100 scores: 0.000, Standard Deviation of last 100 scores: 0.000\n",
      "Episode 540, Average last 100 scores: 0.000, Standard Deviation of last 100 scores: 0.000\n",
      "Episode 560, Average last 100 scores: 0.000, Standard Deviation of last 100 scores: 0.000\n",
      "Episode 580, Average last 100 scores: 0.000, Standard Deviation of last 100 scores: 0.000\n",
      "Episode 600, Average last 100 scores: 0.000, Standard Deviation of last 100 scores: 0.000\n",
      "Episode 620, Average last 100 scores: 0.000, Standard Deviation of last 100 scores: 0.000\n",
      "Episode 640, Average last 100 scores: 0.000, Standard Deviation of last 100 scores: 0.000\n",
      "Episode 660, Average last 100 scores: 0.000, Standard Deviation of last 100 scores: 0.000\n",
      "Episode 680, Average last 100 scores: 0.000, Standard Deviation of last 100 scores: 0.000\n",
      "Episode 700, Average last 100 scores: 0.000, Standard Deviation of last 100 scores: 0.000\n",
      "Episode 720, Average last 100 scores: 0.000, Standard Deviation of last 100 scores: 0.000\n",
      "Episode 740, Average last 100 scores: 0.000, Standard Deviation of last 100 scores: 0.000\n",
      "Episode 760, Average last 100 scores: 0.001, Standard Deviation of last 100 scores: 0.010\n",
      "Episode 780, Average last 100 scores: 0.003, Standard Deviation of last 100 scores: 0.017\n",
      "Episode 800, Average last 100 scores: 0.003, Standard Deviation of last 100 scores: 0.017\n",
      "Episode 820, Average last 100 scores: 0.003, Standard Deviation of last 100 scores: 0.017\n",
      "Episode 840, Average last 100 scores: 0.005, Standard Deviation of last 100 scores: 0.022\n",
      "Episode 860, Average last 100 scores: 0.005, Standard Deviation of last 100 scores: 0.022\n",
      "Episode 880, Average last 100 scores: 0.006, Standard Deviation of last 100 scores: 0.024\n",
      "Episode 900, Average last 100 scores: 0.012, Standard Deviation of last 100 scores: 0.032\n",
      "Episode 920, Average last 100 scores: 0.016, Standard Deviation of last 100 scores: 0.037\n",
      "Episode 940, Average last 100 scores: 0.023, Standard Deviation of last 100 scores: 0.044\n",
      "Episode 960, Average last 100 scores: 0.033, Standard Deviation of last 100 scores: 0.055\n",
      "Episode 980, Average last 100 scores: 0.043, Standard Deviation of last 100 scores: 0.060\n",
      "Episode 1000, Average last 100 scores: 0.045, Standard Deviation of last 100 scores: 0.062\n",
      "Episode 1020, Average last 100 scores: 0.052, Standard Deviation of last 100 scores: 0.064\n",
      "Episode 1040, Average last 100 scores: 0.049, Standard Deviation of last 100 scores: 0.068\n",
      "Episode 1060, Average last 100 scores: 0.060, Standard Deviation of last 100 scores: 0.089\n",
      "Episode 1080, Average last 100 scores: 0.066, Standard Deviation of last 100 scores: 0.093\n",
      "Episode 1100, Average last 100 scores: 0.084, Standard Deviation of last 100 scores: 0.101\n",
      "Episode 1120, Average last 100 scores: 0.095, Standard Deviation of last 100 scores: 0.102\n",
      "Episode 1140, Average last 100 scores: 0.114, Standard Deviation of last 100 scores: 0.110\n",
      "Episode 1160, Average last 100 scores: 0.120, Standard Deviation of last 100 scores: 0.108\n",
      "Episode 1180, Average last 100 scores: 0.111, Standard Deviation of last 100 scores: 0.111\n",
      "Episode 1200, Average last 100 scores: 0.109, Standard Deviation of last 100 scores: 0.110\n",
      "Episode 1220, Average last 100 scores: 0.113, Standard Deviation of last 100 scores: 0.122\n",
      "Episode 1240, Average last 100 scores: 0.108, Standard Deviation of last 100 scores: 0.110\n",
      "Episode 1260, Average last 100 scores: 0.096, Standard Deviation of last 100 scores: 0.096\n",
      "Episode 1280, Average last 100 scores: 0.119, Standard Deviation of last 100 scores: 0.114\n",
      "Episode 1300, Average last 100 scores: 0.144, Standard Deviation of last 100 scores: 0.200\n",
      "Episode 1320, Average last 100 scores: 0.149, Standard Deviation of last 100 scores: 0.195\n",
      "Episode 1340, Average last 100 scores: 0.166, Standard Deviation of last 100 scores: 0.202\n",
      "Episode 1360, Average last 100 scores: 0.177, Standard Deviation of last 100 scores: 0.205\n",
      "Episode 1380, Average last 100 scores: 0.170, Standard Deviation of last 100 scores: 0.195\n",
      "Episode 1400, Average last 100 scores: 0.169, Standard Deviation of last 100 scores: 0.145\n",
      "Episode 1420, Average last 100 scores: 0.176, Standard Deviation of last 100 scores: 0.166\n",
      "Episode 1440, Average last 100 scores: 0.183, Standard Deviation of last 100 scores: 0.173\n",
      "Episode 1460, Average last 100 scores: 0.194, Standard Deviation of last 100 scores: 0.185\n",
      "Episode 1480, Average last 100 scores: 0.233, Standard Deviation of last 100 scores: 0.235\n",
      "Episode 1500, Average last 100 scores: 0.236, Standard Deviation of last 100 scores: 0.229\n",
      "Episode 1520, Average last 100 scores: 0.253, Standard Deviation of last 100 scores: 0.221\n",
      "Episode 1540, Average last 100 scores: 0.276, Standard Deviation of last 100 scores: 0.237\n",
      "Episode 1560, Average last 100 scores: 0.302, Standard Deviation of last 100 scores: 0.236\n",
      "Episode 1580, Average last 100 scores: 0.318, Standard Deviation of last 100 scores: 0.224\n",
      "Episode 1600, Average last 100 scores: 0.356, Standard Deviation of last 100 scores: 0.237\n",
      "Episode 1620, Average last 100 scores: 0.377, Standard Deviation of last 100 scores: 0.257\n",
      "Episode 1640, Average last 100 scores: 0.375, Standard Deviation of last 100 scores: 0.264\n",
      "Episode 1660, Average last 100 scores: 0.366, Standard Deviation of last 100 scores: 0.269\n",
      "Episode 1680, Average last 100 scores: 0.340, Standard Deviation of last 100 scores: 0.270\n",
      "Episode 1700, Average last 100 scores: 0.327, Standard Deviation of last 100 scores: 0.332\n",
      "Episode 1720, Average last 100 scores: 0.312, Standard Deviation of last 100 scores: 0.322\n",
      "Episode 1740, Average last 100 scores: 0.348, Standard Deviation of last 100 scores: 0.579\n",
      "Episode 1760, Average last 100 scores: 0.390, Standard Deviation of last 100 scores: 0.598\n",
      "Success   Episode:1779,  Score:0.501\n"
     ]
    }
   ],
   "source": [
    "# Train the Agent\n",
    "\n",
    "def ddpg(n_episodes=3000, max_t=1000, print_every=100):\n",
    "    \"\"\"Deep Deterministic Policy Gradients DDPG  from Pendulum exercise was employed: \n",
    "       Params:\n",
    "            n_episodes (int): maximum number of training episodes\n",
    "            max_t (int): maximum number of timesteps per episode\n",
    "            print_every(int): print update \n",
    "    \"\"\"\n",
    "    scores_deque = deque(maxlen=print_every)\n",
    "    MeanScores=[]\n",
    "    scores = [] # list containing scores from each episode\n",
    "    for i_episode in range(1, n_episodes+1):\n",
    "        env_info = env.reset(train_mode=True)[brain_name] # reset the environment\n",
    "        states = env_info.vector_observations # get the current state\n",
    "        agent.reset() #initialize agents \n",
    "        scores_a1 = 0 \n",
    "        scores_a2 = 0\n",
    "        score = 0\n",
    "        for t in range(max_t):\n",
    "            actions=[] # clear actions\n",
    "            actions = agent.act(states) # select an action   \n",
    "            action_info = env.step(actions)[brain_name] # get enviroment info\n",
    "            next_states = action_info.vector_observations # get next state (for each agent)\n",
    "            rewards = action_info.rewards # get reward (for each agent)\n",
    "            dones = action_info.local_done # see if episode finished\n",
    "            agent.save_experience(states[0], actions[0], rewards[0], next_states[0], dones[0])\n",
    "            agent.save_experience(states[1], actions[1], rewards[1], next_states[1], dones[1])\n",
    "            agent.learning(t) \n",
    "            states = next_states # roll over states to next time step\n",
    "            score += max(rewards)\n",
    "\n",
    "            if np.any(dones):\n",
    "                break \n",
    " \n",
    "        scores_deque.append(np.mean(score))\n",
    "        scores.append(np.mean(score))         # save most recent score\n",
    "\n",
    "        if i_episode % 20 == 0:\n",
    "            print('\\rEpisode {}, Average last 100 scores: {:.3f}, Standard Deviation of last 100 scores: {:.3f}'\\\n",
    "                .format(i_episode, np.mean(scores_deque), np.std(scores_deque), end=\"\\n\")) \n",
    "        \n",
    "        if  np.mean(scores_deque) > 0.5:\n",
    "            print(\"Success   Episode:{},  Score:{:.3f}\".format(i_episode,  np.mean(scores_deque)))\n",
    "                torch.save(agent.actor_local.state_dict(), 'checkpoint_actor.pth')\n",
    "                torch.save(agent.critic_local.state_dict(), 'checkpoint_critic.pth') \n",
    "                \n",
    "            break\n",
    "        \n",
    "\n",
    "    return scores\n",
    "\n",
    "scores = ddpg()\n",
    "\n"
   ]
  },
  {
   "cell_type": "code",
   "execution_count": 8,
   "metadata": {},
   "outputs": [
    {
     "name": "stdout",
     "output_type": "stream",
     "text": [
      "Collecting pyvirtualdisplay\n",
      "  Downloading https://files.pythonhosted.org/packages/39/37/f285403a09cc261c56b6574baace1bdcf4b8c7428c8a7239cbba137bc0eb/PyVirtualDisplay-0.2.1.tar.gz\n",
      "Collecting EasyProcess (from pyvirtualdisplay)\n",
      "  Downloading https://files.pythonhosted.org/packages/0d/f1/d2de7591e7dfc164d286fa16f051e6c0cf3141825586c3b04ae7cda7ac0f/EasyProcess-0.2.3.tar.gz\n",
      "Building wheels for collected packages: pyvirtualdisplay, EasyProcess\n",
      "  Running setup.py bdist_wheel for pyvirtualdisplay ... \u001b[?25ldone\n",
      "\u001b[?25h  Stored in directory: /root/.cache/pip/wheels/d1/8c/16/1c64227974ae29c687e4cc30fd691d5c0fd40f54446dde99da\n",
      "  Running setup.py bdist_wheel for EasyProcess ... \u001b[?25ldone\n",
      "\u001b[?25h  Stored in directory: /root/.cache/pip/wheels/b4/c6/e3/c163b04029d8fccfd54b809802640c1af587a01be8d7a04e1a\n",
      "Successfully built pyvirtualdisplay EasyProcess\n",
      "Installing collected packages: EasyProcess, pyvirtualdisplay\n",
      "Successfully installed EasyProcess-0.2.3 pyvirtualdisplay-0.2.1\n",
      "\u001b[33mYou are using pip version 9.0.1, however version 18.1 is available.\n",
      "You should consider upgrading via the 'pip install --upgrade pip' command.\u001b[0m\n"
     ]
    },
    {
     "data": {
      "text/plain": [
       "<matplotlib.figure.Figure at 0x7fc77ec279e8>"
      ]
     },
     "metadata": {},
     "output_type": "display_data"
    },
    {
     "data": {
      "image/png": "[encoded data removed]",
      "text/plain": [
       "<matplotlib.figure.Figure at 0x7fc77a502438>"
      ]
     },
     "metadata": {
      "needs_background": "light"
     },
     "output_type": "display_data"
    }
   ],
   "source": [
    "import os\n",
    "import random\n",
    "import torch\n",
    "import numpy as np\n",
    "from collections import deque\n",
    "import matplotlib.pyplot as plt\n",
    "%matplotlib inline\n",
    "\n",
    "!python -m pip install pyvirtualdisplay\n",
    "from pyvirtualdisplay import Display\n",
    "display = Display(visible=0, size=(1400, 900))\n",
    "display.start()\n",
    "\n",
    "is_ipython = 'inline' in plt.get_backend()\n",
    "if is_ipython:\n",
    "    from IPython import display\n",
    "import pandas as pd\n",
    "# plot the scores\n",
    "\n",
    "\n",
    "\n",
    "\n",
    "fig = plt.figure()\n",
    "DDPG=pd.DataFrame()\n",
    "DDPG['Episode']=np.arange(len(scores))\n",
    "DDPG['Score']=scores\n",
    "DDPG['Cut_off_Score']=0.5\n",
    "DDPG.plot(x=\"Episode\", y=[\"Score\", \"Cut_off_Score\"])\n",
    "\n",
    "plt.title('DDPG')\n",
    "plt.show()\n"
   ]
  },
  {
   "cell_type": "code",
   "execution_count": 9,
   "metadata": {},
   "outputs": [],
   "source": [
    "torch.save(agent.actor_local.state_dict(), 'checkpoint_actor.pth')\n",
    "torch.save(agent.critic_local.state_dict(), 'checkpoint_critic.pth') "
   ]
  },
  {
   "cell_type": "code",
   "execution_count": 1,
   "metadata": {},
   "outputs": [
    {
     "name": "stdout",
     "output_type": "stream",
     "text": [
      "Collecting git+https://github.com/szagoruyko/pytorchviz\n",
      "  Cloning https://github.com/szagoruyko/pytorchviz to /tmp/pip-5cwh6414-build\n",
      "Requirement already satisfied: torch in /opt/conda/lib/python3.6/site-packages (from pytorchviz==0.0.1)\n",
      "Collecting graphviz (from pytorchviz==0.0.1)\n",
      "  Downloading https://files.pythonhosted.org/packages/1f/e2/ef2581b5b86625657afd32030f90cf2717456c1d2b711ba074bf007c0f1a/graphviz-0.10.1-py2.py3-none-any.whl\n",
      "Installing collected packages: graphviz, pytorchviz\n",
      "  Running setup.py install for pytorchviz ... \u001b[?25ldone\n",
      "\u001b[?25hSuccessfully installed graphviz-0.10.1 pytorchviz-0.0.1\n",
      "\u001b[33mYou are using pip version 9.0.1, however version 18.1 is available.\n",
      "You should consider upgrading via the 'pip install --upgrade pip' command.\u001b[0m\n"
     ]
    },
    {
     "data": {
      "image/svg+xml": [
       "<?xml version=\"1.0\" encoding=\"UTF-8\" standalone=\"no\"?>\n",
       "<!DOCTYPE svg PUBLIC \"-//W3C//DTD SVG 1.1//EN\"\n",
       " \"http://www.w3.org/Graphics/SVG/1.1/DTD/svg11.dtd\">\n",
       "<!-- Generated by graphviz version 2.38.0 (20140413.2041)\n",
       " -->\n",
       "<!-- Title: %3 Pages: 1 -->\n",
       "<svg width=\"374pt\" height=\"467pt\"\n",
       " viewBox=\"0.00 0.00 373.50 467.00\" xmlns=\"http://www.w3.org/2000/svg\" xmlns:xlink=\"http://www.w3.org/1999/xlink\">\n",
       "<g id=\"graph0\" class=\"graph\" transform=\"scale(1 1) rotate(0) translate(4 463)\">\n",
       "<title>%3</title>\n",
       "<polygon fill=\"white\" stroke=\"none\" points=\"-4,4 -4,-463 369.5,-463 369.5,4 -4,4\"/>\n",
       "<!-- 139807432715400 -->\n",
       "<g id=\"node1\" class=\"node\"><title>139807432715400</title>\n",
       "<polygon fill=\"#caff70\" stroke=\"black\" points=\"258,-21 146,-21 146,-0 258,-0 258,-21\"/>\n",
       "<text text-anchor=\"middle\" x=\"202\" y=\"-7.4\" font-family=\"Times,serif\" font-size=\"12.00\">TanhBackward</text>\n",
       "</g>\n",
       "<!-- 139806093650856 -->\n",
       "<g id=\"node2\" class=\"node\"><title>139806093650856</title>\n",
       "<polygon fill=\"lightgrey\" stroke=\"black\" points=\"266,-78 138,-78 138,-57 266,-57 266,-78\"/>\n",
       "<text text-anchor=\"middle\" x=\"202\" y=\"-64.4\" font-family=\"Times,serif\" font-size=\"12.00\">AddmmBackward</text>\n",
       "</g>\n",
       "<!-- 139806093650856&#45;&gt;139807432715400 -->\n",
       "<g id=\"edge1\" class=\"edge\"><title>139806093650856&#45;&gt;139807432715400</title>\n",
       "<path fill=\"none\" stroke=\"black\" d=\"M202,-56.9197C202,-49.9083 202,-40.1442 202,-31.4652\"/>\n",
       "<polygon fill=\"black\" stroke=\"black\" points=\"205.5,-31.3408 202,-21.3408 198.5,-31.3409 205.5,-31.3408\"/>\n",
       "</g>\n",
       "<!-- 139806093124664 -->\n",
       "<g id=\"node3\" class=\"node\"><title>139806093124664</title>\n",
       "<polygon fill=\"lightgrey\" stroke=\"black\" points=\"130,-135 2,-135 2,-114 130,-114 130,-135\"/>\n",
       "<text text-anchor=\"middle\" x=\"66\" y=\"-121.4\" font-family=\"Times,serif\" font-size=\"12.00\">ExpandBackward</text>\n",
       "</g>\n",
       "<!-- 139806093124664&#45;&gt;139806093650856 -->\n",
       "<g id=\"edge2\" class=\"edge\"><title>139806093124664&#45;&gt;139806093650856</title>\n",
       "<path fill=\"none\" stroke=\"black\" d=\"M89.6894,-113.92C111.592,-105.062 144.357,-91.8115 168.853,-81.9052\"/>\n",
       "<polygon fill=\"black\" stroke=\"black\" points=\"170.167,-85.1489 178.126,-78.155 167.543,-78.6595 170.167,-85.1489\"/>\n",
       "</g>\n",
       "<!-- 139806093124888 -->\n",
       "<g id=\"node4\" class=\"node\"><title>139806093124888</title>\n",
       "<polygon fill=\"lightblue\" stroke=\"black\" points=\"98.5,-205 33.5,-205 33.5,-171 98.5,-171 98.5,-205\"/>\n",
       "<text text-anchor=\"middle\" x=\"66\" y=\"-191.4\" font-family=\"Times,serif\" font-size=\"12.00\">fc3.bias</text>\n",
       "<text text-anchor=\"middle\" x=\"66\" y=\"-178.4\" font-family=\"Times,serif\" font-size=\"12.00\"> (2)</text>\n",
       "</g>\n",
       "<!-- 139806093124888&#45;&gt;139806093124664 -->\n",
       "<g id=\"edge3\" class=\"edge\"><title>139806093124888&#45;&gt;139806093124664</title>\n",
       "<path fill=\"none\" stroke=\"black\" d=\"M66,-170.842C66,-163.012 66,-153.54 66,-145.282\"/>\n",
       "<polygon fill=\"black\" stroke=\"black\" points=\"69.5001,-145.042 66,-135.042 62.5001,-145.042 69.5001,-145.042\"/>\n",
       "</g>\n",
       "<!-- 139806093124720 -->\n",
       "<g id=\"node5\" class=\"node\"><title>139806093124720</title>\n",
       "<polygon fill=\"lightgrey\" stroke=\"black\" points=\"256,-135 148,-135 148,-114 256,-114 256,-135\"/>\n",
       "<text text-anchor=\"middle\" x=\"202\" y=\"-121.4\" font-family=\"Times,serif\" font-size=\"12.00\">ReluBackward</text>\n",
       "</g>\n",
       "<!-- 139806093124720&#45;&gt;139806093650856 -->\n",
       "<g id=\"edge4\" class=\"edge\"><title>139806093124720&#45;&gt;139806093650856</title>\n",
       "<path fill=\"none\" stroke=\"black\" d=\"M202,-113.92C202,-106.908 202,-97.1442 202,-88.4652\"/>\n",
       "<polygon fill=\"black\" stroke=\"black\" points=\"205.5,-88.3408 202,-78.3408 198.5,-88.3409 205.5,-88.3408\"/>\n",
       "</g>\n",
       "<!-- 139806093124944 -->\n",
       "<g id=\"node6\" class=\"node\"><title>139806093124944</title>\n",
       "<polygon fill=\"lightgrey\" stroke=\"black\" points=\"264,-198.5 136,-198.5 136,-177.5 264,-177.5 264,-198.5\"/>\n",
       "<text text-anchor=\"middle\" x=\"200\" y=\"-184.9\" font-family=\"Times,serif\" font-size=\"12.00\">AddmmBackward</text>\n",
       "</g>\n",
       "<!-- 139806093124944&#45;&gt;139806093124720 -->\n",
       "<g id=\"edge5\" class=\"edge\"><title>139806093124944&#45;&gt;139806093124720</title>\n",
       "<path fill=\"none\" stroke=\"black\" d=\"M200.312,-177.391C200.59,-168.866 201.004,-156.139 201.352,-145.423\"/>\n",
       "<polygon fill=\"black\" stroke=\"black\" points=\"204.856,-145.353 201.683,-135.245 197.86,-145.126 204.856,-145.353\"/>\n",
       "</g>\n",
       "<!-- 139806093125056 -->\n",
       "<g id=\"node7\" class=\"node\"><title>139806093125056</title>\n",
       "<polygon fill=\"lightgrey\" stroke=\"black\" points=\"128,-262 0,-262 0,-241 128,-241 128,-262\"/>\n",
       "<text text-anchor=\"middle\" x=\"64\" y=\"-248.4\" font-family=\"Times,serif\" font-size=\"12.00\">ExpandBackward</text>\n",
       "</g>\n",
       "<!-- 139806093125056&#45;&gt;139806093124944 -->\n",
       "<g id=\"edge6\" class=\"edge\"><title>139806093125056&#45;&gt;139806093124944</title>\n",
       "<path fill=\"none\" stroke=\"black\" d=\"M85.25,-240.891C107.905,-230.646 143.98,-214.333 169.629,-202.734\"/>\n",
       "<polygon fill=\"black\" stroke=\"black\" points=\"171.23,-205.851 178.899,-198.542 168.345,-199.473 171.23,-205.851\"/>\n",
       "</g>\n",
       "<!-- 139806093125280 -->\n",
       "<g id=\"node8\" class=\"node\"><title>139806093125280</title>\n",
       "<polygon fill=\"lightblue\" stroke=\"black\" points=\"96.5,-332 31.5,-332 31.5,-298 96.5,-298 96.5,-332\"/>\n",
       "<text text-anchor=\"middle\" x=\"64\" y=\"-318.4\" font-family=\"Times,serif\" font-size=\"12.00\">fc2.bias</text>\n",
       "<text text-anchor=\"middle\" x=\"64\" y=\"-305.4\" font-family=\"Times,serif\" font-size=\"12.00\"> (256)</text>\n",
       "</g>\n",
       "<!-- 139806093125280&#45;&gt;139806093125056 -->\n",
       "<g id=\"edge7\" class=\"edge\"><title>139806093125280&#45;&gt;139806093125056</title>\n",
       "<path fill=\"none\" stroke=\"black\" d=\"M64,-297.842C64,-290.012 64,-280.54 64,-272.282\"/>\n",
       "<polygon fill=\"black\" stroke=\"black\" points=\"67.5001,-272.042 64,-262.042 60.5001,-272.042 67.5001,-272.042\"/>\n",
       "</g>\n",
       "<!-- 139806093125112 -->\n",
       "<g id=\"node9\" class=\"node\"><title>139806093125112</title>\n",
       "<polygon fill=\"lightgrey\" stroke=\"black\" points=\"254,-262 146,-262 146,-241 254,-241 254,-262\"/>\n",
       "<text text-anchor=\"middle\" x=\"200\" y=\"-248.4\" font-family=\"Times,serif\" font-size=\"12.00\">ReluBackward</text>\n",
       "</g>\n",
       "<!-- 139806093125112&#45;&gt;139806093124944 -->\n",
       "<g id=\"edge8\" class=\"edge\"><title>139806093125112&#45;&gt;139806093124944</title>\n",
       "<path fill=\"none\" stroke=\"black\" d=\"M200,-240.891C200,-232.366 200,-219.639 200,-208.923\"/>\n",
       "<polygon fill=\"black\" stroke=\"black\" points=\"203.5,-208.745 200,-198.745 196.5,-208.745 203.5,-208.745\"/>\n",
       "</g>\n",
       "<!-- 139806093125336 -->\n",
       "<g id=\"node10\" class=\"node\"><title>139806093125336</title>\n",
       "<polygon fill=\"lightgrey\" stroke=\"black\" points=\"262,-325.5 134,-325.5 134,-304.5 262,-304.5 262,-325.5\"/>\n",
       "<text text-anchor=\"middle\" x=\"198\" y=\"-311.9\" font-family=\"Times,serif\" font-size=\"12.00\">AddmmBackward</text>\n",
       "</g>\n",
       "<!-- 139806093125336&#45;&gt;139806093125112 -->\n",
       "<g id=\"edge9\" class=\"edge\"><title>139806093125336&#45;&gt;139806093125112</title>\n",
       "<path fill=\"none\" stroke=\"black\" d=\"M198.312,-304.391C198.59,-295.866 199.004,-283.139 199.352,-272.423\"/>\n",
       "<polygon fill=\"black\" stroke=\"black\" points=\"202.856,-272.353 199.683,-262.245 195.86,-272.126 202.856,-272.353\"/>\n",
       "</g>\n",
       "<!-- 139806093125448 -->\n",
       "<g id=\"node11\" class=\"node\"><title>139806093125448</title>\n",
       "<polygon fill=\"lightgrey\" stroke=\"black\" points=\"199,-389 71,-389 71,-368 199,-368 199,-389\"/>\n",
       "<text text-anchor=\"middle\" x=\"135\" y=\"-375.4\" font-family=\"Times,serif\" font-size=\"12.00\">ExpandBackward</text>\n",
       "</g>\n",
       "<!-- 139806093125448&#45;&gt;139806093125336 -->\n",
       "<g id=\"edge10\" class=\"edge\"><title>139806093125448&#45;&gt;139806093125336</title>\n",
       "<path fill=\"none\" stroke=\"black\" d=\"M144.844,-367.891C154.404,-358.558 169.122,-344.19 180.65,-332.937\"/>\n",
       "<polygon fill=\"black\" stroke=\"black\" points=\"183.307,-335.235 188.017,-325.745 178.417,-330.226 183.307,-335.235\"/>\n",
       "</g>\n",
       "<!-- 139806093125616 -->\n",
       "<g id=\"node12\" class=\"node\"><title>139806093125616</title>\n",
       "<polygon fill=\"lightblue\" stroke=\"black\" points=\"167.5,-459 102.5,-459 102.5,-425 167.5,-425 167.5,-459\"/>\n",
       "<text text-anchor=\"middle\" x=\"135\" y=\"-445.4\" font-family=\"Times,serif\" font-size=\"12.00\">fc1.bias</text>\n",
       "<text text-anchor=\"middle\" x=\"135\" y=\"-432.4\" font-family=\"Times,serif\" font-size=\"12.00\"> (512)</text>\n",
       "</g>\n",
       "<!-- 139806093125616&#45;&gt;139806093125448 -->\n",
       "<g id=\"edge11\" class=\"edge\"><title>139806093125616&#45;&gt;139806093125448</title>\n",
       "<path fill=\"none\" stroke=\"black\" d=\"M135,-424.842C135,-417.012 135,-407.54 135,-399.282\"/>\n",
       "<polygon fill=\"black\" stroke=\"black\" points=\"138.5,-399.042 135,-389.042 131.5,-399.042 138.5,-399.042\"/>\n",
       "</g>\n",
       "<!-- 139806093125504 -->\n",
       "<g id=\"node13\" class=\"node\"><title>139806093125504</title>\n",
       "<polygon fill=\"lightgrey\" stroke=\"black\" points=\"305,-389 217,-389 217,-368 305,-368 305,-389\"/>\n",
       "<text text-anchor=\"middle\" x=\"261\" y=\"-375.4\" font-family=\"Times,serif\" font-size=\"12.00\">TBackward</text>\n",
       "</g>\n",
       "<!-- 139806093125504&#45;&gt;139806093125336 -->\n",
       "<g id=\"edge12\" class=\"edge\"><title>139806093125504&#45;&gt;139806093125336</title>\n",
       "<path fill=\"none\" stroke=\"black\" d=\"M251.156,-367.891C241.596,-358.558 226.878,-344.19 215.35,-332.937\"/>\n",
       "<polygon fill=\"black\" stroke=\"black\" points=\"217.583,-330.226 207.983,-325.745 212.693,-335.235 217.583,-330.226\"/>\n",
       "</g>\n",
       "<!-- 139806093125672 -->\n",
       "<g id=\"node14\" class=\"node\"><title>139806093125672</title>\n",
       "<polygon fill=\"lightblue\" stroke=\"black\" points=\"302.5,-459 219.5,-459 219.5,-425 302.5,-425 302.5,-459\"/>\n",
       "<text text-anchor=\"middle\" x=\"261\" y=\"-445.4\" font-family=\"Times,serif\" font-size=\"12.00\">fc1.weight</text>\n",
       "<text text-anchor=\"middle\" x=\"261\" y=\"-432.4\" font-family=\"Times,serif\" font-size=\"12.00\"> (512, 24)</text>\n",
       "</g>\n",
       "<!-- 139806093125672&#45;&gt;139806093125504 -->\n",
       "<g id=\"edge13\" class=\"edge\"><title>139806093125672&#45;&gt;139806093125504</title>\n",
       "<path fill=\"none\" stroke=\"black\" d=\"M261,-424.842C261,-417.012 261,-407.54 261,-399.282\"/>\n",
       "<polygon fill=\"black\" stroke=\"black\" points=\"264.5,-399.042 261,-389.042 257.5,-399.042 264.5,-399.042\"/>\n",
       "</g>\n",
       "<!-- 139806093125168 -->\n",
       "<g id=\"node15\" class=\"node\"><title>139806093125168</title>\n",
       "<polygon fill=\"lightgrey\" stroke=\"black\" points=\"364,-262 276,-262 276,-241 364,-241 364,-262\"/>\n",
       "<text text-anchor=\"middle\" x=\"320\" y=\"-248.4\" font-family=\"Times,serif\" font-size=\"12.00\">TBackward</text>\n",
       "</g>\n",
       "<!-- 139806093125168&#45;&gt;139806093124944 -->\n",
       "<g id=\"edge14\" class=\"edge\"><title>139806093125168&#45;&gt;139806093124944</title>\n",
       "<path fill=\"none\" stroke=\"black\" d=\"M301.25,-240.891C281.524,-230.781 250.269,-214.763 227.7,-203.196\"/>\n",
       "<polygon fill=\"black\" stroke=\"black\" points=\"229.114,-199.988 218.618,-198.542 225.921,-206.218 229.114,-199.988\"/>\n",
       "</g>\n",
       "<!-- 139806093125392 -->\n",
       "<g id=\"node16\" class=\"node\"><title>139806093125392</title>\n",
       "<polygon fill=\"lightblue\" stroke=\"black\" points=\"363.5,-332 280.5,-332 280.5,-298 363.5,-298 363.5,-332\"/>\n",
       "<text text-anchor=\"middle\" x=\"322\" y=\"-318.4\" font-family=\"Times,serif\" font-size=\"12.00\">fc2.weight</text>\n",
       "<text text-anchor=\"middle\" x=\"322\" y=\"-305.4\" font-family=\"Times,serif\" font-size=\"12.00\"> (256, 512)</text>\n",
       "</g>\n",
       "<!-- 139806093125392&#45;&gt;139806093125168 -->\n",
       "<g id=\"edge15\" class=\"edge\"><title>139806093125392&#45;&gt;139806093125168</title>\n",
       "<path fill=\"none\" stroke=\"black\" d=\"M321.475,-297.842C321.22,-290.012 320.912,-280.54 320.643,-272.282\"/>\n",
       "<polygon fill=\"black\" stroke=\"black\" points=\"324.134,-271.923 320.31,-262.042 317.137,-272.15 324.134,-271.923\"/>\n",
       "</g>\n",
       "<!-- 139806093124776 -->\n",
       "<g id=\"node17\" class=\"node\"><title>139806093124776</title>\n",
       "<polygon fill=\"lightgrey\" stroke=\"black\" points=\"364,-135 276,-135 276,-114 364,-114 364,-135\"/>\n",
       "<text text-anchor=\"middle\" x=\"320\" y=\"-121.4\" font-family=\"Times,serif\" font-size=\"12.00\">TBackward</text>\n",
       "</g>\n",
       "<!-- 139806093124776&#45;&gt;139806093650856 -->\n",
       "<g id=\"edge16\" class=\"edge\"><title>139806093124776&#45;&gt;139806093650856</title>\n",
       "<path fill=\"none\" stroke=\"black\" d=\"M299.446,-113.92C280.779,-105.219 253.017,-92.2792 231.895,-82.4343\"/>\n",
       "<polygon fill=\"black\" stroke=\"black\" points=\"233.257,-79.2074 222.714,-78.155 230.3,-85.5521 233.257,-79.2074\"/>\n",
       "</g>\n",
       "<!-- 139806093125000 -->\n",
       "<g id=\"node18\" class=\"node\"><title>139806093125000</title>\n",
       "<polygon fill=\"lightblue\" stroke=\"black\" points=\"365.5,-205 282.5,-205 282.5,-171 365.5,-171 365.5,-205\"/>\n",
       "<text text-anchor=\"middle\" x=\"324\" y=\"-191.4\" font-family=\"Times,serif\" font-size=\"12.00\">fc3.weight</text>\n",
       "<text text-anchor=\"middle\" x=\"324\" y=\"-178.4\" font-family=\"Times,serif\" font-size=\"12.00\"> (2, 256)</text>\n",
       "</g>\n",
       "<!-- 139806093125000&#45;&gt;139806093124776 -->\n",
       "<g id=\"edge17\" class=\"edge\"><title>139806093125000&#45;&gt;139806093124776</title>\n",
       "<path fill=\"none\" stroke=\"black\" d=\"M322.949,-170.842C322.44,-163.012 321.824,-153.54 321.287,-145.282\"/>\n",
       "<polygon fill=\"black\" stroke=\"black\" points=\"324.762,-144.794 320.621,-135.042 317.777,-145.248 324.762,-144.794\"/>\n",
       "</g>\n",
       "</g>\n",
       "</svg>\n"
      ],
      "text/plain": [
       "<graphviz.dot.Digraph at 0x7f2774e76208>"
      ]
     },
     "execution_count": 1,
     "metadata": {},
     "output_type": "execute_result"
    }
   ],
   "source": [
    "!pip install git+https://github.com/szagoruyko/pytorchviz\n",
    "from torchviz import make_dot, make_dot_from_trace\n",
    "import torch\n",
    "import torch.nn as nn\n",
    "import torch.nn.functional as F\n",
    "\n",
    "from torch.autograd import Variable\n",
    "from torchviz import make_dot\n",
    "\n",
    "from model import Actor, Critic\n",
    "model = Actor(24, 2, 10)\n",
    "x = Variable(torch.randn(1,24))\n",
    "y = model(x)\n",
    "             \n",
    "make_dot(y, params=dict(list(model.named_parameters())))         \n"
   ]
  },
  {
   "cell_type": "code",
   "execution_count": null,
   "metadata": {},
   "outputs": [],
   "source": []
  },
  {
   "cell_type": "code",
   "execution_count": null,
   "metadata": {},
   "outputs": [],
   "source": []
  },
  {
   "cell_type": "code",
   "execution_count": null,
   "metadata": {},
   "outputs": [],
   "source": []
  },
  {
   "cell_type": "code",
   "execution_count": null,
   "metadata": {},
   "outputs": [],
   "source": []
  },
  {
   "cell_type": "code",
   "execution_count": null,
   "metadata": {},
   "outputs": [],
   "source": []
  },
  {
   "cell_type": "code",
   "execution_count": null,
   "metadata": {},
   "outputs": [],
   "source": []
  },
  {
   "cell_type": "code",
   "execution_count": null,
   "metadata": {},
   "outputs": [],
   "source": []
  },
  {
   "cell_type": "code",
   "execution_count": null,
   "metadata": {},
   "outputs": [],
   "source": []
  },
  {
   "cell_type": "code",
   "execution_count": null,
   "metadata": {},
   "outputs": [],
   "source": []
  },
  {
   "cell_type": "code",
   "execution_count": null,
   "metadata": {},
   "outputs": [],
   "source": []
  },
  {
   "cell_type": "code",
   "execution_count": null,
   "metadata": {},
   "outputs": [],
   "source": []
  },
  {
   "cell_type": "code",
   "execution_count": null,
   "metadata": {},
   "outputs": [],
   "source": []
  },
  {
   "cell_type": "code",
   "execution_count": null,
   "metadata": {},
   "outputs": [],
   "source": []
  },
  {
   "cell_type": "code",
   "execution_count": null,
   "metadata": {},
   "outputs": [],
   "source": []
  },
  {
   "cell_type": "code",
   "execution_count": null,
   "metadata": {},
   "outputs": [],
   "source": []
  },
  {
   "cell_type": "code",
   "execution_count": null,
   "metadata": {},
   "outputs": [],
   "source": []
  },
  {
   "cell_type": "code",
   "execution_count": null,
   "metadata": {},
   "outputs": [],
   "source": []
  },
  {
   "cell_type": "code",
   "execution_count": null,
   "metadata": {},
   "outputs": [],
   "source": []
  },
  {
   "cell_type": "code",
   "execution_count": null,
   "metadata": {},
   "outputs": [],
   "source": []
  },
  {
   "cell_type": "code",
   "execution_count": null,
   "metadata": {},
   "outputs": [],
   "source": []
  },
  {
   "cell_type": "code",
   "execution_count": null,
   "metadata": {},
   "outputs": [],
   "source": []
  },
  {
   "cell_type": "code",
   "execution_count": null,
   "metadata": {},
   "outputs": [],
   "source": []
  }
 ],
 "metadata": {
  "kernelspec": {
   "display_name": "Python 3",
   "language": "python",
   "name": "python3"
  },
  "language_info": {
   "codemirror_mode": {
    "name": "ipython",
    "version": 3
   },
   "file_extension": ".py",
   "mimetype": "text/x-python",
   "name": "python",
   "nbconvert_exporter": "python",
   "pygments_lexer": "ipython3",
   "version": "3.6.3"
  }
 },
 "nbformat": 4,
 "nbformat_minor": 2
}
