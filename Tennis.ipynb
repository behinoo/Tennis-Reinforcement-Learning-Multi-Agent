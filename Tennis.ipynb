{
 "cells": [
  {
   "cell_type": "markdown",
   "metadata": {},
   "source": [
    "# Collaboration and Competition\n",
    "\n",
    "---\n",
    "\n",
    "You are welcome to use this coding environment to train your agent for the project.  Follow the instructions below to get started!\n",
    "\n",
    "### 1. Start the Environment\n",
    "\n",
    "Run the next code cell to install a few packages.  This line will take a few minutes to run!"
   ]
  },
  {
   "cell_type": "code",
   "execution_count": 1,
   "metadata": {},
   "outputs": [],
   "source": [
    "!pip -q install ../python"
   ]
  },
  {
   "cell_type": "markdown",
   "metadata": {},
   "source": [
    "The environment is already saved in the Workspace and can be accessed at the file path provided below. "
   ]
  },
  {
   "cell_type": "code",
   "execution_count": 2,
   "metadata": {},
   "outputs": [
    {
     "name": "stderr",
     "output_type": "stream",
     "text": [
      "INFO:unityagents:\n",
      "'Academy' started successfully!\n",
      "Unity Academy name: Academy\n",
      "        Number of Brains: 1\n",
      "        Number of External Brains : 1\n",
      "        Lesson number : 0\n",
      "        Reset Parameters :\n",
      "\t\t\n",
      "Unity brain name: TennisBrain\n",
      "        Number of Visual Observations (per agent): 0\n",
      "        Vector Observation space type: continuous\n",
      "        Vector Observation space size (per agent): 8\n",
      "        Number of stacked Vector Observation: 3\n",
      "        Vector Action space type: continuous\n",
      "        Vector Action space size (per agent): 2\n",
      "        Vector Action descriptions: , \n"
     ]
    }
   ],
   "source": [
    "from unityagents import UnityEnvironment\n",
    "import numpy as np\n",
    "import torch\n",
    "import random\n",
    "from collections import deque\n",
    "\n",
    "env = UnityEnvironment(file_name=\"/data/Tennis_Linux_NoVis/Tennis\")"
   ]
  },
  {
   "cell_type": "markdown",
   "metadata": {},
   "source": [
    "Environments contain **_brains_** which are responsible for deciding the actions of their associated agents. Here we check for the first brain available, and set it as the default brain we will be controlling from Python."
   ]
  },
  {
   "cell_type": "code",
   "execution_count": 3,
   "metadata": {},
   "outputs": [],
   "source": [
    "# get the default brain\n",
    "brain_name = env.brain_names[0]\n",
    "brain = env.brains[brain_name]"
   ]
  },
  {
   "cell_type": "markdown",
   "metadata": {},
   "source": [
    "### 2. Examine the State and Action Spaces\n",
    "\n",
    "Run the code cell below to print some information about the environment."
   ]
  },
  {
   "cell_type": "code",
   "execution_count": 4,
   "metadata": {},
   "outputs": [
    {
     "name": "stdout",
     "output_type": "stream",
     "text": [
      "Number of agents: 2\n",
      "Size of each action: 2\n",
      "There are 2 agents. Each observes a state with length: 24\n",
      "The state for the first agent looks like: [ 0.          0.          0.          0.          0.          0.          0.\n",
      "  0.          0.          0.          0.          0.          0.          0.\n",
      "  0.          0.         -6.65278625 -1.5        -0.          0.\n",
      "  6.83172083  6.         -0.          0.        ]\n"
     ]
    }
   ],
   "source": [
    "# reset the environment\n",
    "env_info = env.reset(train_mode=True)[brain_name]\n",
    "\n",
    "# number of agents \n",
    "num_agents = len(env_info.agents)\n",
    "print('Number of agents:', num_agents)\n",
    "\n",
    "# size of each action\n",
    "action_size = brain.vector_action_space_size\n",
    "print('Size of each action:', action_size)\n",
    "\n",
    "# examine the state space \n",
    "states = env_info.vector_observations\n",
    "state_size = states.shape[1]\n",
    "print('There are {} agents. Each observes a state with length: {}'.format(states.shape[0], state_size))\n",
    "print('The state for the first agent looks like:', states[0])"
   ]
  },
  {
   "cell_type": "markdown",
   "metadata": {},
   "source": [
    "### 3. Take Random Actions in the Environment\n",
    "\n",
    "In the next code cell, you will learn how to use the Python API to control the agent and receive feedback from the environment.\n",
    "\n",
    "Note that **in this coding environment, you will not be able to watch the agents while they are training**, and you should set `train_mode=True` to restart the environment."
   ]
  },
  {
   "cell_type": "code",
   "execution_count": 5,
   "metadata": {},
   "outputs": [
    {
     "name": "stdout",
     "output_type": "stream",
     "text": [
      "Total score (averaged over agents) this episode: 0.04500000085681677\n",
      "Total score (averaged over agents) this episode: -0.004999999888241291\n",
      "Total score (averaged over agents) this episode: -0.004999999888241291\n",
      "Total score (averaged over agents) this episode: 0.04500000085681677\n",
      "Total score (averaged over agents) this episode: -0.004999999888241291\n"
     ]
    }
   ],
   "source": [
    "for i in range(5):                                         # play game for 5 episodes\n",
    "    env_info = env.reset(train_mode=False)[brain_name]     # reset the environment    \n",
    "    states = env_info.vector_observations                  # get the current state (for each agent)\n",
    "    scores = np.zeros(num_agents)                          # initialize the score (for each agent)\n",
    "    while True:\n",
    "        actions = np.random.randn(num_agents, action_size) # select an action (for each agent)\n",
    "        actions = np.clip(actions, -1, 1)                  # all actions between -1 and 1\n",
    "        env_info = env.step(actions)[brain_name]           # send all actions to tne environment\n",
    "        next_states = env_info.vector_observations         # get next state (for each agent)\n",
    "        rewards = env_info.rewards                         # get reward (for each agent)\n",
    "        dones = env_info.local_done                        # see if episode finished\n",
    "        scores += env_info.rewards                         # update the score (for each agent)\n",
    "        states = next_states                               # roll over states to next time step\n",
    "        if np.any(dones):                                  # exit loop if episode finished\n",
    "            break\n",
    "    print('Total score (averaged over agents) this episode: {}'.format(np.mean(scores)))"
   ]
  },
  {
   "cell_type": "markdown",
   "metadata": {},
   "source": [
    "When finished, you can close the environment."
   ]
  },
  {
   "cell_type": "code",
   "execution_count": 6,
   "metadata": {},
   "outputs": [],
   "source": [
    "from ddpg_agent import Agent\n",
    "\n",
    "agent = Agent(state_size=state_size, action_size=action_size, random_seed=200, agent_size=num_agents)"
   ]
  },
  {
   "cell_type": "code",
   "execution_count": 8,
   "metadata": {},
   "outputs": [
    {
     "name": "stdout",
     "output_type": "stream",
     "text": [
      "Episode 10\tAverage Score: 0.00\n",
      "Episode 20\tAverage Score: 0.01\n",
      "Episode 30\tAverage Score: 0.01\n",
      "Episode 40\tAverage Score: 0.01\n",
      "Episode 50\tAverage Score: 0.01\n",
      "Episode 60\tAverage Score: 0.01\n",
      "Episode 70\tAverage Score: 0.01\n",
      "Episode 80\tAverage Score: 0.01\n",
      "Episode 90\tAverage Score: 0.00\n",
      "Episode 100\tAverage Score: 0.00\n",
      "Episode 110\tAverage Score: 0.00\n",
      "Episode 120\tAverage Score: 0.00\n",
      "Episode 130\tAverage Score: 0.00\n",
      "Episode 140\tAverage Score: 0.00\n",
      "Episode 150\tAverage Score: 0.00\n",
      "Episode 160\tAverage Score: 0.00\n",
      "Episode 170\tAverage Score: 0.00\n",
      "Episode 180\tAverage Score: 0.00\n",
      "Episode 190\tAverage Score: 0.00\n",
      "Episode 200\tAverage Score: 0.00\n",
      "Episode 210\tAverage Score: 0.00\n",
      "Episode 220\tAverage Score: 0.00\n",
      "Episode 230\tAverage Score: 0.00\n",
      "Episode 240\tAverage Score: 0.00\n",
      "Episode 250\tAverage Score: 0.01\n",
      "Episode 260\tAverage Score: 0.01\n",
      "Episode 270\tAverage Score: 0.01\n",
      "Episode 280\tAverage Score: 0.01\n",
      "Episode 290\tAverage Score: 0.01\n",
      "Episode 300\tAverage Score: 0.01\n",
      "Episode 310\tAverage Score: 0.01\n",
      "Episode 320\tAverage Score: 0.01\n",
      "Episode 330\tAverage Score: 0.01\n",
      "Episode 340\tAverage Score: 0.01\n",
      "Episode 350\tAverage Score: 0.01\n",
      "Episode 360\tAverage Score: 0.01\n",
      "Episode 370\tAverage Score: 0.00\n",
      "Episode 380\tAverage Score: 0.00\n",
      "Episode 390\tAverage Score: 0.00\n",
      "Episode 400\tAverage Score: 0.00\n",
      "Episode 410\tAverage Score: 0.00\n",
      "Episode 420\tAverage Score: 0.00\n",
      "Episode 430\tAverage Score: 0.00\n",
      "Episode 440\tAverage Score: 0.00\n",
      "Episode 450\tAverage Score: 0.00\n",
      "Episode 460\tAverage Score: 0.00\n",
      "Episode 470\tAverage Score: 0.00\n",
      "Episode 480\tAverage Score: 0.00\n",
      "Episode 490\tAverage Score: 0.00\n",
      "Episode 500\tAverage Score: 0.00\n",
      "Episode 510\tAverage Score: 0.00\n",
      "Episode 520\tAverage Score: 0.00\n",
      "Episode 530\tAverage Score: 0.00\n",
      "Episode 540\tAverage Score: 0.00\n",
      "Episode 550\tAverage Score: 0.00\n",
      "Episode 560\tAverage Score: 0.00\n",
      "Episode 570\tAverage Score: 0.00\n",
      "Episode 580\tAverage Score: 0.01\n",
      "Episode 590\tAverage Score: 0.01\n",
      "Episode 600\tAverage Score: 0.01\n",
      "Episode 610\tAverage Score: 0.01\n",
      "Episode 620\tAverage Score: 0.01\n",
      "Episode 630\tAverage Score: 0.01\n",
      "Episode 640\tAverage Score: 0.01\n",
      "Episode 650\tAverage Score: 0.01\n",
      "Episode 660\tAverage Score: 0.01\n",
      "Episode 670\tAverage Score: 0.01\n",
      "Episode 680\tAverage Score: 0.00\n",
      "Episode 690\tAverage Score: 0.00\n",
      "Episode 700\tAverage Score: 0.00\n",
      "Episode 710\tAverage Score: 0.00\n",
      "Episode 720\tAverage Score: 0.00\n",
      "Episode 730\tAverage Score: 0.00\n",
      "Episode 740\tAverage Score: 0.00\n",
      "Episode 750\tAverage Score: 0.00\n",
      "Episode 760\tAverage Score: 0.00\n",
      "Episode 770\tAverage Score: 0.00\n",
      "Episode 780\tAverage Score: 0.00\n",
      "Episode 790\tAverage Score: 0.00\n",
      "Episode 800\tAverage Score: 0.00\n",
      "Episode 810\tAverage Score: 0.01\n",
      "Episode 820\tAverage Score: 0.01\n",
      "Episode 830\tAverage Score: 0.01\n",
      "Episode 840\tAverage Score: 0.02\n",
      "Episode 850\tAverage Score: 0.02\n",
      "Episode 860\tAverage Score: 0.02\n",
      "Episode 870\tAverage Score: 0.02\n",
      "Episode 880\tAverage Score: 0.03\n",
      "Episode 890\tAverage Score: 0.03\n",
      "Episode 900\tAverage Score: 0.03\n",
      "Episode 910\tAverage Score: 0.03\n",
      "Episode 920\tAverage Score: 0.03\n",
      "Episode 930\tAverage Score: 0.03\n",
      "Episode 940\tAverage Score: 0.03\n",
      "Episode 950\tAverage Score: 0.03\n",
      "Episode 960\tAverage Score: 0.02\n",
      "Episode 970\tAverage Score: 0.03\n",
      "Episode 980\tAverage Score: 0.04\n",
      "Episode 990\tAverage Score: 0.04\n",
      "Episode 1000\tAverage Score: 0.05\n",
      "Episode 1010\tAverage Score: 0.05\n",
      "Episode 1020\tAverage Score: 0.06\n",
      "Episode 1030\tAverage Score: 0.07\n",
      "Episode 1040\tAverage Score: 0.10\n",
      "Episode 1050\tAverage Score: 0.12\n",
      "Episode 1060\tAverage Score: 0.13\n",
      "Episode 1070\tAverage Score: 0.13\n",
      "Episode 1080\tAverage Score: 0.15\n",
      "Episode 1090\tAverage Score: 0.16\n",
      "Episode 1100\tAverage Score: 0.16\n",
      "Episode 1110\tAverage Score: 0.17\n",
      "Episode 1120\tAverage Score: 0.20\n",
      "Episode 1130\tAverage Score: 0.22\n",
      "Episode 1140\tAverage Score: 0.23\n",
      "Episode 1150\tAverage Score: 0.23\n",
      "Episode 1160\tAverage Score: 0.23\n",
      "Episode 1170\tAverage Score: 0.25\n",
      "Episode 1180\tAverage Score: 0.25\n",
      "Episode 1190\tAverage Score: 0.26\n",
      "Episode 1200\tAverage Score: 0.27\n",
      "Episode 1210\tAverage Score: 0.30\n",
      "Episode 1220\tAverage Score: 0.30\n",
      "Episode 1230\tAverage Score: 0.33\n",
      "Episode 1240\tAverage Score: 0.34\n",
      "Episode 1250\tAverage Score: 0.38\n",
      "Episode 1260\tAverage Score: 0.48\n",
      "\n",
      "Environment solved in 1165 episodes!\tAverage Score: 0.50\n"
     ]
    },
    {
     "ename": "NameError",
     "evalue": "name 'plt' is not defined",
     "output_type": "error",
     "traceback": [
      "\u001b[0;31m---------------------------------------------------------------------------\u001b[0m",
      "\u001b[0;31mNameError\u001b[0m                                 Traceback (most recent call last)",
      "\u001b[0;32m<ipython-input-8-95216ccb974f>\u001b[0m in \u001b[0;36m<module>\u001b[0;34m()\u001b[0m\n\u001b[1;32m     75\u001b[0m \u001b[0;34m\u001b[0m\u001b[0m\n\u001b[1;32m     76\u001b[0m \u001b[0;31m# plot the scores\u001b[0m\u001b[0;34m\u001b[0m\u001b[0;34m\u001b[0m\u001b[0m\n\u001b[0;32m---> 77\u001b[0;31m \u001b[0mfig\u001b[0m \u001b[0;34m=\u001b[0m \u001b[0mplt\u001b[0m\u001b[0;34m.\u001b[0m\u001b[0mfigure\u001b[0m\u001b[0;34m(\u001b[0m\u001b[0;34m)\u001b[0m\u001b[0;34m\u001b[0m\u001b[0m\n\u001b[0m\u001b[1;32m     78\u001b[0m \u001b[0max\u001b[0m \u001b[0;34m=\u001b[0m \u001b[0mfig\u001b[0m\u001b[0;34m.\u001b[0m\u001b[0madd_subplot\u001b[0m\u001b[0;34m(\u001b[0m\u001b[0;36m111\u001b[0m\u001b[0;34m)\u001b[0m\u001b[0;34m\u001b[0m\u001b[0m\n\u001b[1;32m     79\u001b[0m \u001b[0mplt\u001b[0m\u001b[0;34m.\u001b[0m\u001b[0mplot\u001b[0m\u001b[0;34m(\u001b[0m\u001b[0mnp\u001b[0m\u001b[0;34m.\u001b[0m\u001b[0marange\u001b[0m\u001b[0;34m(\u001b[0m\u001b[0mlen\u001b[0m\u001b[0;34m(\u001b[0m\u001b[0mscores\u001b[0m\u001b[0;34m)\u001b[0m\u001b[0;34m)\u001b[0m\u001b[0;34m,\u001b[0m \u001b[0mscores\u001b[0m\u001b[0;34m)\u001b[0m\u001b[0;34m\u001b[0m\u001b[0m\n",
      "\u001b[0;31mNameError\u001b[0m: name 'plt' is not defined"
     ]
    }
   ],
   "source": [
    "# Train the Agent\n",
    "\n",
    "def ddpg(n_episodes=3000, max_t=1000, print_every=100):\n",
    "    \"\"\"Deep Deterministic Policy Gradients DDPG  from Pendulum exercise was employed: \n",
    "       Params:\n",
    "            n_episodes (int): maximum number of training episodes\n",
    "            max_t (int): maximum number of timesteps per episode\n",
    "            print_every(int): print update \n",
    "    \"\"\"\n",
    "    scores_deque = deque(maxlen=print_every)\n",
    "    MeanScores=[]\n",
    "    scores = [] # list containing scores from each episode\n",
    "    for i_episode in range(1, n_episodes+1):\n",
    "        env_info = env.reset(train_mode=True)[brain_name] # reset the environment\n",
    "        states = env_info.vector_observations # get the current state\n",
    "        #print('states= ', states.shape)\n",
    "        agent.reset() #initialize agents \n",
    "        scores_a1 = 0 \n",
    "        scores_a2 = 0\n",
    "        max_score = 0\n",
    "        for t in range(max_t):\n",
    "            actions=[] # clear actions\n",
    "            actions = agent.act(states) # select an action   \n",
    "\n",
    "            action_info = env.step(actions)[brain_name] # get enviroment info\n",
    "            next_states = action_info.vector_observations # get next state (for each agent)\n",
    "\n",
    "            rewards = action_info.rewards # get reward (for each agent)\n",
    "   \n",
    "            dones = action_info.local_done # see if episode finished\n",
    "            for index in range(0,num_agents):\n",
    "                agent.save_experience(states[index], actions[index], rewards[index], next_states[index], dones[index])\n",
    "            agent.multi_step(t) #Train each agent \n",
    "            states = next_states # roll over states to next time step\n",
    "            scores_a1 = rewards[0] \n",
    "            scores_a2 = rewards[1]\n",
    "            \n",
    "            \n",
    "      \n",
    "\n",
    "            \n",
    "            max_score += max(scores_a1,scores_a2)\n",
    "\n",
    "            if np.any(dones):\n",
    "                break \n",
    " \n",
    "#         score = np.mean(scores)\n",
    "#         scores_deque.append(score)\n",
    "#         MeanScores.append(score) \n",
    "        \n",
    "        scores_deque.append(np.mean(max_score))\n",
    "        scores.append(np.mean(max_score))         # save most recent score\n",
    "\n",
    "#         if i_episode % 20 == 0:\n",
    "#             print('\\rEpisode {}, Average last 100 scores: {:.3f}, Standard Deviation of last 100 scores: {:.3f}'\\\n",
    "#                 .format(i_episode, np.mean(scores_deque), np.std(scores), end=\"\\n\")) \n",
    "        \n",
    "#         if  score > 0.5:\n",
    "#             print(\"Success   Episode:{},  Score:{:.3f}\".format(i_episode,  np.mean(scores_deque)))\n",
    "           \n",
    "#             break\n",
    "        \n",
    "        \n",
    "        if i_episode % 10 == 0:\n",
    "            print('\\rEpisode {}\\tAverage Score: {:.2f}'.format(i_episode, np.mean(scores_deque)), end=\"\\n\")   \n",
    "        torch.save(agent.actor_local.state_dict(),  'checkpoint_actor.pth' )\n",
    "        torch.save(agent.critic_local.state_dict(), 'checkpoint_critic.pth')\n",
    "        if np.mean(scores_deque)>=0.5:\n",
    "            print('\\nEnvironment solved in {:d} episodes!\\tAverage Score: {:.2f}'.format(i_episode-100, np.mean(scores_deque)))\n",
    "            break\n",
    "            \n",
    "    return scores\n",
    "\n",
    "scores = ddpg()\n",
    "\n",
    "# plot the scores\n",
    "fig = plt.figure()\n",
    "ax = fig.add_subplot(111)\n",
    "plt.plot(np.arange(len(scores)), scores)\n",
    "plt.ylabel('Score')\n",
    "plt.xlabel('Episode #')\n",
    "plt.show()"
   ]
  },
  {
   "cell_type": "code",
   "execution_count": null,
   "metadata": {},
   "outputs": [],
   "source": [
    "env.close()"
   ]
  },
  {
   "cell_type": "markdown",
   "metadata": {},
   "source": [
    "### 4. It's Your Turn!\n",
    "\n",
    "Now it's your turn to train your own agent to solve the environment!  A few **important notes**:\n",
    "- When training the environment, set `train_mode=True`, so that the line for resetting the environment looks like the following:\n",
    "```python\n",
    "env_info = env.reset(train_mode=True)[brain_name]\n",
    "```\n",
    "- To structure your work, you're welcome to work directly in this Jupyter notebook, or you might like to start over with a new file!  You can see the list of files in the workspace by clicking on **_Jupyter_** in the top left corner of the notebook.\n",
    "- In this coding environment, you will not be able to watch the agents while they are training.  However, **_after training the agents_**, you can download the saved model weights to watch the agents on your own machine! "
   ]
  },
  {
   "cell_type": "code",
   "execution_count": null,
   "metadata": {},
   "outputs": [],
   "source": []
  },
  {
   "cell_type": "code",
   "execution_count": 7,
   "metadata": {},
   "outputs": [
    {
     "name": "stdout",
     "output_type": "stream",
     "text": [
      "Episode 20, Average last 100 scores: 0.020, Standard Deviation of last 100 scores: 0.051\n",
      "Episode 40, Average last 100 scores: 0.013, Standard Deviation of last 100 scores: 0.040\n",
      "Episode 60, Average last 100 scores: 0.008, Standard Deviation of last 100 scores: 0.033\n",
      "Episode 80, Average last 100 scores: 0.008, Standard Deviation of last 100 scores: 0.031\n",
      "Episode 100, Average last 100 scores: 0.006, Standard Deviation of last 100 scores: 0.028\n",
      "Episode 120, Average last 100 scores: 0.002, Standard Deviation of last 100 scores: 0.014\n",
      "Episode 140, Average last 100 scores: 0.001, Standard Deviation of last 100 scores: 0.010\n",
      "Episode 160, Average last 100 scores: 0.001, Standard Deviation of last 100 scores: 0.010\n",
      "Episode 180, Average last 100 scores: 0.000, Standard Deviation of last 100 scores: 0.000\n",
      "Episode 200, Average last 100 scores: 0.000, Standard Deviation of last 100 scores: 0.000\n",
      "Episode 220, Average last 100 scores: 0.000, Standard Deviation of last 100 scores: 0.000\n",
      "Episode 240, Average last 100 scores: 0.002, Standard Deviation of last 100 scores: 0.014\n",
      "Episode 260, Average last 100 scores: 0.002, Standard Deviation of last 100 scores: 0.014\n",
      "Episode 280, Average last 100 scores: 0.002, Standard Deviation of last 100 scores: 0.014\n",
      "Episode 300, Average last 100 scores: 0.003, Standard Deviation of last 100 scores: 0.017\n",
      "Episode 320, Average last 100 scores: 0.011, Standard Deviation of last 100 scores: 0.049\n",
      "Episode 340, Average last 100 scores: 0.014, Standard Deviation of last 100 scores: 0.053\n",
      "Episode 360, Average last 100 scores: 0.014, Standard Deviation of last 100 scores: 0.053\n",
      "Episode 380, Average last 100 scores: 0.014, Standard Deviation of last 100 scores: 0.053\n",
      "Episode 400, Average last 100 scores: 0.013, Standard Deviation of last 100 scores: 0.052\n",
      "Episode 420, Average last 100 scores: 0.005, Standard Deviation of last 100 scores: 0.026\n",
      "Episode 440, Average last 100 scores: 0.000, Standard Deviation of last 100 scores: 0.000\n",
      "Episode 460, Average last 100 scores: 0.000, Standard Deviation of last 100 scores: 0.000\n",
      "Episode 480, Average last 100 scores: 0.000, Standard Deviation of last 100 scores: 0.000\n",
      "Episode 500, Average last 100 scores: 0.000, Standard Deviation of last 100 scores: 0.000\n",
      "Episode 520, Average last 100 scores: 0.000, Standard Deviation of last 100 scores: 0.000\n",
      "Episode 540, Average last 100 scores: 0.000, Standard Deviation of last 100 scores: 0.000\n",
      "Episode 560, Average last 100 scores: 0.000, Standard Deviation of last 100 scores: 0.000\n",
      "Episode 580, Average last 100 scores: 0.000, Standard Deviation of last 100 scores: 0.000\n",
      "Episode 600, Average last 100 scores: 0.000, Standard Deviation of last 100 scores: 0.000\n",
      "Episode 620, Average last 100 scores: 0.000, Standard Deviation of last 100 scores: 0.000\n",
      "Episode 640, Average last 100 scores: 0.000, Standard Deviation of last 100 scores: 0.000\n",
      "Episode 660, Average last 100 scores: 0.000, Standard Deviation of last 100 scores: 0.000\n",
      "Episode 680, Average last 100 scores: 0.000, Standard Deviation of last 100 scores: 0.000\n",
      "Episode 700, Average last 100 scores: 0.000, Standard Deviation of last 100 scores: 0.000\n",
      "Episode 720, Average last 100 scores: 0.000, Standard Deviation of last 100 scores: 0.000\n",
      "Episode 740, Average last 100 scores: 0.000, Standard Deviation of last 100 scores: 0.000\n",
      "Episode 760, Average last 100 scores: 0.000, Standard Deviation of last 100 scores: 0.000\n",
      "Episode 780, Average last 100 scores: 0.003, Standard Deviation of last 100 scores: 0.022\n",
      "Episode 800, Average last 100 scores: 0.005, Standard Deviation of last 100 scores: 0.026\n",
      "Episode 820, Average last 100 scores: 0.005, Standard Deviation of last 100 scores: 0.026\n",
      "Episode 840, Average last 100 scores: 0.007, Standard Deviation of last 100 scores: 0.032\n",
      "Episode 860, Average last 100 scores: 0.009, Standard Deviation of last 100 scores: 0.035\n",
      "Episode 880, Average last 100 scores: 0.014, Standard Deviation of last 100 scores: 0.042\n",
      "Episode 900, Average last 100 scores: 0.023, Standard Deviation of last 100 scores: 0.055\n",
      "Episode 920, Average last 100 scores: 0.030, Standard Deviation of last 100 scores: 0.057\n",
      "Episode 940, Average last 100 scores: 0.037, Standard Deviation of last 100 scores: 0.064\n",
      "Episode 960, Average last 100 scores: 0.039, Standard Deviation of last 100 scores: 0.066\n",
      "Episode 980, Average last 100 scores: 0.034, Standard Deviation of last 100 scores: 0.062\n",
      "Episode 1000, Average last 100 scores: 0.026, Standard Deviation of last 100 scores: 0.054\n",
      "Episode 1020, Average last 100 scores: 0.028, Standard Deviation of last 100 scores: 0.058\n",
      "Episode 1040, Average last 100 scores: 0.032, Standard Deviation of last 100 scores: 0.058\n",
      "Episode 1060, Average last 100 scores: 0.047, Standard Deviation of last 100 scores: 0.071\n",
      "Episode 1080, Average last 100 scores: 0.060, Standard Deviation of last 100 scores: 0.071\n",
      "Episode 1100, Average last 100 scores: 0.070, Standard Deviation of last 100 scores: 0.070\n",
      "Episode 1120, Average last 100 scores: 0.082, Standard Deviation of last 100 scores: 0.070\n",
      "Episode 1140, Average last 100 scores: 0.089, Standard Deviation of last 100 scores: 0.068\n",
      "Episode 1160, Average last 100 scores: 0.098, Standard Deviation of last 100 scores: 0.066\n",
      "Episode 1180, Average last 100 scores: 0.113, Standard Deviation of last 100 scores: 0.092\n",
      "Episode 1200, Average last 100 scores: 0.124, Standard Deviation of last 100 scores: 0.092\n",
      "Episode 1220, Average last 100 scores: 0.133, Standard Deviation of last 100 scores: 0.093\n",
      "Episode 1240, Average last 100 scores: 0.182, Standard Deviation of last 100 scores: 0.176\n",
      "Episode 1260, Average last 100 scores: 0.262, Standard Deviation of last 100 scores: 0.299\n",
      "Episode 1280, Average last 100 scores: 0.269, Standard Deviation of last 100 scores: 0.301\n",
      "Episode 1300, Average last 100 scores: 0.279, Standard Deviation of last 100 scores: 0.299\n",
      "Episode 1320, Average last 100 scores: 0.291, Standard Deviation of last 100 scores: 0.299\n",
      "Episode 1340, Average last 100 scores: 0.285, Standard Deviation of last 100 scores: 0.305\n",
      "Episode 1360, Average last 100 scores: 0.233, Standard Deviation of last 100 scores: 0.223\n",
      "Episode 1380, Average last 100 scores: 0.284, Standard Deviation of last 100 scores: 0.333\n",
      "Success   Episode:1399,  Score:0.507\n"
     ]
    }
   ],
   "source": [
    "# Train the Agent\n",
    "\n",
    "def ddpg(n_episodes=3000, max_t=1000, print_every=100):\n",
    "    \"\"\"Deep Deterministic Policy Gradients DDPG  from Pendulum exercise was employed: \n",
    "       Params:\n",
    "            n_episodes (int): maximum number of training episodes\n",
    "            max_t (int): maximum number of timesteps per episode\n",
    "            print_every(int): print update \n",
    "    \"\"\"\n",
    "    scores_deque = deque(maxlen=print_every)\n",
    "    MeanScores=[]\n",
    "    scores = [] # list containing scores from each episode\n",
    "    for i_episode in range(1, n_episodes+1):\n",
    "        env_info = env.reset(train_mode=True)[brain_name] # reset the environment\n",
    "        states = env_info.vector_observations # get the current state\n",
    "        #print('states= ', states.shape)\n",
    "        agent.reset() #initialize agents \n",
    "        scores_a1 = 0 \n",
    "        scores_a2 = 0\n",
    "        score = 0\n",
    "        for t in range(max_t):\n",
    "            actions=[] # clear actions\n",
    "            actions = agent.act(states) # select an action   \n",
    "\n",
    "            action_info = env.step(actions)[brain_name] # get enviroment info\n",
    "            next_states = action_info.vector_observations # get next state (for each agent)\n",
    "\n",
    "            rewards = action_info.rewards # get reward (for each agent)\n",
    "   \n",
    "            dones = action_info.local_done # see if episode finished\n",
    "            agent.save_experience(states[0], actions[0], rewards[0], next_states[0], dones[0])\n",
    "            agent.save_experience(states[1], actions[1], rewards[1], next_states[1], dones[1])\n",
    "            agent.learning(t) \n",
    "            states = next_states # roll over states to next time step\n",
    "#             scores_a1 = rewards[0] \n",
    "#             scores_a2 = rewards[1]\n",
    "            \n",
    "            \n",
    "      \n",
    "\n",
    "            \n",
    "            score += max(rewards)\n",
    "\n",
    "            if np.any(dones):\n",
    "                break \n",
    " \n",
    "\n",
    "        scores_deque.append(np.mean(score))\n",
    "        scores.append(np.mean(score))         # save most recent score\n",
    "\n",
    "        if i_episode % 20 == 0:\n",
    "            print('\\rEpisode {}, Average last 100 scores: {:.3f}, Standard Deviation of last 100 scores: {:.3f}'\\\n",
    "                .format(i_episode, np.mean(scores_deque), np.std(scores_deque), end=\"\\n\")) \n",
    "        \n",
    "        if  np.mean(scores_deque) > 0.5:\n",
    "            print(\"Success   Episode:{},  Score:{:.3f}\".format(i_episode,  np.mean(scores_deque)))\n",
    "           \n",
    "            break\n",
    "        \n",
    "        \n",
    "#         if i_episode % 10 == 0:\n",
    "#             print('\\rEpisode {}\\tAverage Score: {:.2f}'.format(i_episode, np.mean(scores_deque)), end=\"\\n\")   \n",
    "#         torch.save(agent.actor_local.state_dict(),  'checkpoint_actor.pth' )\n",
    "#         torch.save(agent.critic_local.state_dict(), 'checkpoint_critic.pth')\n",
    "#         if np.mean(scores_deque)>=0.5:\n",
    "#             print('\\nEnvironment solved in {:d} episodes!\\tAverage Score: {:.2f}'.format(i_episode-100, np.mean(scores_deque)))\n",
    "#             break\n",
    "            \n",
    "    return scores\n",
    "\n",
    "scores = ddpg()\n",
    "\n"
   ]
  },
  {
   "cell_type": "code",
   "execution_count": 8,
   "metadata": {},
   "outputs": [
    {
     "name": "stdout",
     "output_type": "stream",
     "text": [
      "Collecting pyvirtualdisplay\n",
      "  Downloading https://files.pythonhosted.org/packages/39/37/f285403a09cc261c56b6574baace1bdcf4b8c7428c8a7239cbba137bc0eb/PyVirtualDisplay-0.2.1.tar.gz\n",
      "Collecting EasyProcess (from pyvirtualdisplay)\n",
      "  Downloading https://files.pythonhosted.org/packages/0d/f1/d2de7591e7dfc164d286fa16f051e6c0cf3141825586c3b04ae7cda7ac0f/EasyProcess-0.2.3.tar.gz\n",
      "Building wheels for collected packages: pyvirtualdisplay, EasyProcess\n",
      "  Running setup.py bdist_wheel for pyvirtualdisplay ... \u001b[?25ldone\n",
      "\u001b[?25h  Stored in directory: /root/.cache/pip/wheels/d1/8c/16/1c64227974ae29c687e4cc30fd691d5c0fd40f54446dde99da\n",
      "  Running setup.py bdist_wheel for EasyProcess ... \u001b[?25ldone\n",
      "\u001b[?25h  Stored in directory: /root/.cache/pip/wheels/b4/c6/e3/c163b04029d8fccfd54b809802640c1af587a01be8d7a04e1a\n",
      "Successfully built pyvirtualdisplay EasyProcess\n",
      "Installing collected packages: EasyProcess, pyvirtualdisplay\n",
      "Successfully installed EasyProcess-0.2.3 pyvirtualdisplay-0.2.1\n",
      "\u001b[33mYou are using pip version 9.0.1, however version 18.1 is available.\n",
      "You should consider upgrading via the 'pip install --upgrade pip' command.\u001b[0m\n"
     ]
    },
    {
     "data": {
      "text/plain": [
       "<matplotlib.figure.Figure at 0x7f352c066eb8>"
      ]
     },
     "metadata": {},
     "output_type": "display_data"
    },
    {
     "data": {
      "image/png": "[encoded data removed]",
      "text/plain": [
       "<matplotlib.figure.Figure at 0x7f34f05952b0>"
      ]
     },
     "metadata": {
      "needs_background": "light"
     },
     "output_type": "display_data"
    },
    {
     "ename": "NameError",
     "evalue": "name 'scores_deque' is not defined",
     "output_type": "error",
     "traceback": [
      "\u001b[0;31m---------------------------------------------------------------------------\u001b[0m",
      "\u001b[0;31mNameError\u001b[0m                                 Traceback (most recent call last)",
      "\u001b[0;32m<ipython-input-8-50f8f880baa5>\u001b[0m in \u001b[0;36m<module>\u001b[0;34m()\u001b[0m\n\u001b[1;32m     30\u001b[0m \u001b[0mplt\u001b[0m\u001b[0;34m.\u001b[0m\u001b[0mtitle\u001b[0m\u001b[0;34m(\u001b[0m\u001b[0;34m'DDPG'\u001b[0m\u001b[0;34m)\u001b[0m\u001b[0;34m\u001b[0m\u001b[0m\n\u001b[1;32m     31\u001b[0m \u001b[0mplt\u001b[0m\u001b[0;34m.\u001b[0m\u001b[0mshow\u001b[0m\u001b[0;34m(\u001b[0m\u001b[0;34m)\u001b[0m\u001b[0;34m\u001b[0m\u001b[0m\n\u001b[0;32m---> 32\u001b[0;31m \u001b[0mprint\u001b[0m \u001b[0;34m(\u001b[0m\u001b[0mnp\u001b[0m\u001b[0;34m.\u001b[0m\u001b[0mmean\u001b[0m\u001b[0;34m(\u001b[0m\u001b[0mscores_deque\u001b[0m\u001b[0;34m)\u001b[0m\u001b[0;34m)\u001b[0m\u001b[0;34m\u001b[0m\u001b[0m\n\u001b[0m",
      "\u001b[0;31mNameError\u001b[0m: name 'scores_deque' is not defined"
     ]
    }
   ],
   "source": [
    "import os\n",
    "import random\n",
    "import torch\n",
    "import numpy as np\n",
    "from collections import deque\n",
    "import matplotlib.pyplot as plt\n",
    "%matplotlib inline\n",
    "\n",
    "!python -m pip install pyvirtualdisplay\n",
    "from pyvirtualdisplay import Display\n",
    "display = Display(visible=0, size=(1400, 900))\n",
    "display.start()\n",
    "\n",
    "is_ipython = 'inline' in plt.get_backend()\n",
    "if is_ipython:\n",
    "    from IPython import display\n",
    "import pandas as pd\n",
    "# plot the scores\n",
    "\n",
    "\n",
    "\n",
    "\n",
    "fig = plt.figure()\n",
    "DDPG=pd.DataFrame()\n",
    "DDPG['Episode']=np.arange(len(scores))\n",
    "DDPG['Score']=scores\n",
    "DDPG['Cut_off_Score']=0.5\n",
    "DDPG.plot(x=\"Episode\", y=[\"Score\", \"Cut_off_Score\"])\n",
    "\n",
    "plt.title('DDPG')\n",
    "plt.show()\n",
    "print (np.mean(scores_deque))"
   ]
  },
  {
   "cell_type": "code",
   "execution_count": null,
   "metadata": {},
   "outputs": [],
   "source": []
  },
  {
   "cell_type": "code",
   "execution_count": null,
   "metadata": {},
   "outputs": [],
   "source": []
  },
  {
   "cell_type": "code",
   "execution_count": null,
   "metadata": {},
   "outputs": [],
   "source": []
  },
  {
   "cell_type": "code",
   "execution_count": null,
   "metadata": {},
   "outputs": [],
   "source": []
  },
  {
   "cell_type": "code",
   "execution_count": null,
   "metadata": {},
   "outputs": [],
   "source": []
  },
  {
   "cell_type": "code",
   "execution_count": null,
   "metadata": {},
   "outputs": [],
   "source": []
  },
  {
   "cell_type": "code",
   "execution_count": null,
   "metadata": {},
   "outputs": [],
   "source": []
  },
  {
   "cell_type": "code",
   "execution_count": null,
   "metadata": {},
   "outputs": [],
   "source": []
  },
  {
   "cell_type": "code",
   "execution_count": null,
   "metadata": {},
   "outputs": [],
   "source": []
  },
  {
   "cell_type": "code",
   "execution_count": null,
   "metadata": {},
   "outputs": [],
   "source": []
  },
  {
   "cell_type": "code",
   "execution_count": null,
   "metadata": {},
   "outputs": [],
   "source": []
  },
  {
   "cell_type": "code",
   "execution_count": null,
   "metadata": {},
   "outputs": [],
   "source": []
  },
  {
   "cell_type": "code",
   "execution_count": null,
   "metadata": {},
   "outputs": [],
   "source": []
  },
  {
   "cell_type": "code",
   "execution_count": null,
   "metadata": {},
   "outputs": [],
   "source": []
  },
  {
   "cell_type": "code",
   "execution_count": null,
   "metadata": {},
   "outputs": [],
   "source": []
  },
  {
   "cell_type": "code",
   "execution_count": null,
   "metadata": {},
   "outputs": [],
   "source": []
  },
  {
   "cell_type": "code",
   "execution_count": null,
   "metadata": {},
   "outputs": [],
   "source": []
  },
  {
   "cell_type": "code",
   "execution_count": null,
   "metadata": {},
   "outputs": [],
   "source": []
  },
  {
   "cell_type": "code",
   "execution_count": null,
   "metadata": {},
   "outputs": [],
   "source": []
  },
  {
   "cell_type": "code",
   "execution_count": null,
   "metadata": {},
   "outputs": [],
   "source": []
  },
  {
   "cell_type": "code",
   "execution_count": null,
   "metadata": {},
   "outputs": [],
   "source": []
  },
  {
   "cell_type": "code",
   "execution_count": null,
   "metadata": {},
   "outputs": [],
   "source": []
  },
  {
   "cell_type": "code",
   "execution_count": null,
   "metadata": {},
   "outputs": [],
   "source": []
  },
  {
   "cell_type": "code",
   "execution_count": null,
   "metadata": {},
   "outputs": [],
   "source": []
  }
 ],
 "metadata": {
  "kernelspec": {
   "display_name": "Python 3",
   "language": "python",
   "name": "python3"
  },
  "language_info": {
   "codemirror_mode": {
    "name": "ipython",
    "version": 3
   },
   "file_extension": ".py",
   "mimetype": "text/x-python",
   "name": "python",
   "nbconvert_exporter": "python",
   "pygments_lexer": "ipython3",
   "version": "3.6.3"
  }
 },
 "nbformat": 4,
 "nbformat_minor": 2
}
